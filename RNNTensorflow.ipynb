{
 "cells": [
  {
   "cell_type": "code",
   "execution_count": 135,
   "id": "f245be07-9368-4234-8bbb-23e408302ee7",
   "metadata": {},
   "outputs": [],
   "source": [
    "import tensorflow as tf"
   ]
  },
  {
   "cell_type": "code",
   "execution_count": 136,
   "id": "b0fa1e25-159f-4dfa-ab05-a8da7a2c86bc",
   "metadata": {},
   "outputs": [],
   "source": [
    "class RNNLayer(tf.Module):\n",
    "    def __init__(self, out_features, name = None):\n",
    "        super().__init__(name=name)\n",
    "        self.is_built = False\n",
    "        self.wr = tf.Variable(tf.random.normal([out_features, out_features]), name = 'wr')\n",
    "        self.out_features = out_features\n",
    "\n",
    "    def resetMemory(self):\n",
    "        self.stores = tf.Variable(tf.zeros(self.stores.shape))\n",
    "    \n",
    "    def __call__(self, x):\n",
    "        if not self.is_built:\n",
    "            self.stores = tf.Variable(tf.zeros([x.shape[0], self.out_features]), name = 'stor', trainable=False)\n",
    "            self.wb = tf.Variable(tf.random.normal([x.shape[-1], self.out_features]), name = 'w0')\n",
    "            self.b = tf.Variable(tf.random.normal([self.out_features]), name = 'b')\n",
    "            self.is_built = False\n",
    "\n",
    "        self.stores = tf.matmul(x, self.wb) + tf.matmul(self.stores, self.wr) + self.b\n",
    "        \n",
    "        return tf.nn.relu(self.stores)"
   ]
  },
  {
   "cell_type": "code",
   "execution_count": 137,
   "id": "7386be4f-3be4-4358-b048-2ff03f425528",
   "metadata": {},
   "outputs": [],
   "source": [
    "class Model(tf.Module):\n",
    "    def __init__(self, Layers, name = None):\n",
    "        super().__init__(name =  name)\n",
    "        self.layers = Layers\n",
    "\n",
    "    def __call__(self, x):\n",
    "        return self.layers(x)"
   ]
  },
  {
   "cell_type": "code",
   "execution_count": 138,
   "id": "1377ee6c-a042-4838-ab8d-2b441073c392",
   "metadata": {},
   "outputs": [],
   "source": [
    "class LayerSeries(tf.Module):\n",
    "    def __init__(self, layers, name = None):\n",
    "        super().__init__(name = name)\n",
    "        self.layers = layers\n",
    "    def __call__(self, x):\n",
    "        for lay in self.layers:\n",
    "            x = lay(x)\n",
    "        return x"
   ]
  },
  {
   "cell_type": "code",
   "execution_count": 139,
   "id": "d83decbd-4f3a-4413-88be-5781b4516f98",
   "metadata": {},
   "outputs": [],
   "source": [
    "class LayerBranch(tf.Module):\n",
    "    def __init__(self, leftlayers, rightlayers, operation, name = None):\n",
    "        super().__init__(name = name)\n",
    "        self.leftlayers = leftlayers\n",
    "        self.rightlayers = rightlayers\n",
    "        self.opp = operation\n",
    "    def __call__(self, x):\n",
    "        xl = self.leftlayers(x)\n",
    "        xr = self.rightlayers(x)\n",
    "        return self.opp(xl, xr)"
   ]
  },
  {
   "cell_type": "code",
   "execution_count": null,
   "id": "0d3e44a0-436f-4e78-896f-a711f95acf3f",
   "metadata": {},
   "outputs": [],
   "source": []
  }
 ],
 "metadata": {
  "kernelspec": {
   "display_name": "Python 3 (ipykernel)",
   "language": "python",
   "name": "python3"
  },
  "language_info": {
   "codemirror_mode": {
    "name": "ipython",
    "version": 3
   },
   "file_extension": ".py",
   "mimetype": "text/x-python",
   "name": "python",
   "nbconvert_exporter": "python",
   "pygments_lexer": "ipython3",
   "version": "3.10.9"
  }
 },
 "nbformat": 4,
 "nbformat_minor": 5
}
