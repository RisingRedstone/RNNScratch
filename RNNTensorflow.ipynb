{
 "cells": [
  {
   "cell_type": "code",
   "execution_count": 4,
   "id": "f245be07-9368-4234-8bbb-23e408302ee7",
   "metadata": {},
   "outputs": [
    {
     "name": "stderr",
     "output_type": "stream",
     "text": [
      "D:\\Software\\anaconda3\\lib\\site-packages\\h5py\\__init__.py:36: UserWarning: h5py is running against HDF5 1.12.2 when it was built against 1.12.1, this may cause problems\n",
      "  _warn((\"h5py is running against HDF5 {0} when it was built against {1}, \"\n"
     ]
    }
   ],
   "source": [
    "import tensorflow as tf"
   ]
  },
  {
   "cell_type": "code",
   "execution_count": 9,
   "id": "b0fa1e25-159f-4dfa-ab05-a8da7a2c86bc",
   "metadata": {},
   "outputs": [],
   "source": [
    "class RNNLayer(tf.Module):\n",
    "    def __init__(self, out_features, name = None):\n",
    "        super().__init__(name=name)\n",
    "        self.is_built = False\n",
    "        self.wr = tf.Variable(tf.random.normal([out_features, out_features]), name = 'wr')\n",
    "        self.out_features = out_features\n",
    "        \n",
    "    def __call__(self, x):\n",
    "        if not self.is_built:\n",
    "            self.stores = tf.Variable(tf.zeros([x.shape[0], self.out_features]), name = 'stor', trainable=False)\n",
    "            self.wb = tf.Variable(tf.random.normal([x.shape[-1], self.out_features]), name = 'w0')\n",
    "            self.b = tf.Variable(tf.random.normal([self.out_features]), name = 'b')\n",
    "            self.is_built = False\n",
    "\n",
    "        y = tf.matmul(x, self.wb) + tf.matmul(self.stores, self.wr) + self.b\n",
    "        return tf.nn.relu(y)"
   ]
  },
  {
   "cell_type": "code",
   "execution_count": 17,
   "id": "7386be4f-3be4-4358-b048-2ff03f425528",
   "metadata": {},
   "outputs": [],
   "source": [
    "#continue with adding this layer in and train a Model"
   ]
  }
 ],
 "metadata": {
  "kernelspec": {
   "display_name": "Python 3 (ipykernel)",
   "language": "python",
   "name": "python3"
  },
  "language_info": {
   "codemirror_mode": {
    "name": "ipython",
    "version": 3
   },
   "file_extension": ".py",
   "mimetype": "text/x-python",
   "name": "python",
   "nbconvert_exporter": "python",
   "pygments_lexer": "ipython3",
   "version": "3.10.9"
  }
 },
 "nbformat": 4,
 "nbformat_minor": 5
}
